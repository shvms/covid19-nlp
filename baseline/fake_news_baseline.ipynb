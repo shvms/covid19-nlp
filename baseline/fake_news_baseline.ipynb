{
  "nbformat": 4,
  "nbformat_minor": 0,
  "metadata": {
    "colab": {
      "name": "fake_news_baseline",
      "provenance": [],
      "authorship_tag": "ABX9TyOsBX7ZhWsf2Z8VAPocefVs",
      "include_colab_link": true
    },
    "kernelspec": {
      "name": "python3",
      "display_name": "Python 3"
    },
    "accelerator": "GPU"
  },
  "cells": [
    {
      "cell_type": "markdown",
      "metadata": {
        "id": "view-in-github",
        "colab_type": "text"
      },
      "source": [
        "<a href=\"https://colab.research.google.com/github/shvms/covid19-nlp/blob/master/baseline/fake_news_baseline.ipynb\" target=\"_parent\"><img src=\"https://colab.research.google.com/assets/colab-badge.svg\" alt=\"Open In Colab\"/></a>"
      ]
    },
    {
      "cell_type": "code",
      "metadata": {
        "id": "L7EPNjl_1jqJ",
        "colab_type": "code",
        "colab": {}
      },
      "source": [
        "import numpy as np\n",
        "import pandas as pd\n",
        "from matplotlib import pyplot as plt\n",
        "import csv\n",
        "import re\n",
        "import random\n",
        "import time\n",
        "import json\n",
        "from typing import List, Tuple, Dict, Set"
      ],
      "execution_count": 49,
      "outputs": []
    },
    {
      "cell_type": "code",
      "metadata": {
        "id": "BHy-18Vu3YD6",
        "colab_type": "code",
        "colab": {}
      },
      "source": [
        "!pip install tensorflow===1.15.0"
      ],
      "execution_count": null,
      "outputs": []
    },
    {
      "cell_type": "code",
      "metadata": {
        "id": "FZ9TgsR83gnJ",
        "colab_type": "code",
        "colab": {}
      },
      "source": [
        "import tensorflow as tf\n",
        "from tensorflow.keras.preprocessing.text import Tokenizer\n",
        "from tensorflow.keras.preprocessing.sequence import pad_sequences"
      ],
      "execution_count": 3,
      "outputs": []
    },
    {
      "cell_type": "code",
      "metadata": {
        "id": "CgUUvmO531Q8",
        "colab_type": "code",
        "colab": {}
      },
      "source": [
        "tf.compat.v1.disable_eager_execution()"
      ],
      "execution_count": 4,
      "outputs": []
    },
    {
      "cell_type": "code",
      "metadata": {
        "id": "sfIR-BXH4jv8",
        "colab_type": "code",
        "colab": {
          "base_uri": "https://localhost:8080/",
          "height": 34
        },
        "outputId": "de0b1dff-4186-4573-94ef-b7612ca6f721"
      },
      "source": [
        "with open(\"stopwords.txt\", encoding=\"utf-8\") as f:\n",
        "  stopwords = set(f.read().split(\"\\n\"))\n",
        "print(len(stopwords))"
      ],
      "execution_count": 17,
      "outputs": [
        {
          "output_type": "stream",
          "text": [
            "668\n"
          ],
          "name": "stdout"
        }
      ]
    },
    {
      "cell_type": "code",
      "metadata": {
        "id": "BUolIWrM8Dod",
        "colab_type": "code",
        "colab": {
          "base_uri": "https://localhost:8080/",
          "height": 34
        },
        "outputId": "98f623fb-41d2-4981-8a37-b95c3aab4a3e"
      },
      "source": [
        "with open(\"cov19_keywords.txt\", encoding=\"utf-8\") as f:\n",
        "  keywords = f.read().split(\"\\n\")\n",
        "print(len(keywords))"
      ],
      "execution_count": 21,
      "outputs": [
        {
          "output_type": "stream",
          "text": [
            "270\n"
          ],
          "name": "stdout"
        }
      ]
    },
    {
      "cell_type": "code",
      "metadata": {
        "id": "PG_xty7cPG-n",
        "colab_type": "code",
        "colab": {}
      },
      "source": [
        "def plot_graphs(history, metric):\n",
        "  plt.plot(history.history[f'{metric}'])\n",
        "  plt.plot(history.history[f'val_{metric}'])\n",
        "  plt.xlabel('#Epochs')\n",
        "  plt.ylabel(metric)\n",
        "  plt.legend([metric, f'val_{metric}'])\n",
        "  plt.show()"
      ],
      "execution_count": 71,
      "outputs": []
    },
    {
      "cell_type": "code",
      "metadata": {
        "id": "SpcRkDVz4xHI",
        "colab_type": "code",
        "colab": {}
      },
      "source": [
        "df = pd.read_csv(\"recovery-news-data.csv\", encoding=\"utf-8\")"
      ],
      "execution_count": 7,
      "outputs": []
    },
    {
      "cell_type": "code",
      "metadata": {
        "id": "P9vvM-oc5EjK",
        "colab_type": "code",
        "colab": {
          "base_uri": "https://localhost:8080/",
          "height": 635
        },
        "outputId": "d31f7eb2-fc26-4420-cd46-b9994d74415b"
      },
      "source": [
        "df.head()"
      ],
      "execution_count": 8,
      "outputs": [
        {
          "output_type": "execute_result",
          "data": {
            "text/html": [
              "<div>\n",
              "<style scoped>\n",
              "    .dataframe tbody tr th:only-of-type {\n",
              "        vertical-align: middle;\n",
              "    }\n",
              "\n",
              "    .dataframe tbody tr th {\n",
              "        vertical-align: top;\n",
              "    }\n",
              "\n",
              "    .dataframe thead th {\n",
              "        text-align: right;\n",
              "    }\n",
              "</style>\n",
              "<table border=\"1\" class=\"dataframe\">\n",
              "  <thead>\n",
              "    <tr style=\"text-align: right;\">\n",
              "      <th></th>\n",
              "      <th>news_id</th>\n",
              "      <th>url</th>\n",
              "      <th>publisher</th>\n",
              "      <th>publish_date</th>\n",
              "      <th>author</th>\n",
              "      <th>title</th>\n",
              "      <th>image</th>\n",
              "      <th>body_text</th>\n",
              "      <th>news_guard_score</th>\n",
              "      <th>mbfc_level</th>\n",
              "      <th>political_bias</th>\n",
              "      <th>country</th>\n",
              "      <th>reliability</th>\n",
              "    </tr>\n",
              "  </thead>\n",
              "  <tbody>\n",
              "    <tr>\n",
              "      <th>0</th>\n",
              "      <td>0</td>\n",
              "      <td>https://www.nytimes.com/article/what-is-corona...</td>\n",
              "      <td>The New York Times</td>\n",
              "      <td>2020-01-21</td>\n",
              "      <td>['Knvul Sheikh', 'Roni Caryn Rabin']</td>\n",
              "      <td>The Coronavirus: What Scientists Have Learned ...</td>\n",
              "      <td>https://static01.nyt.com/images/2020/03/12/sci...</td>\n",
              "      <td>\\r\\nA novel respiratory virus that originated ...</td>\n",
              "      <td>100.0</td>\n",
              "      <td>High</td>\n",
              "      <td>Left</td>\n",
              "      <td>USA</td>\n",
              "      <td>1</td>\n",
              "    </tr>\n",
              "    <tr>\n",
              "      <th>1</th>\n",
              "      <td>1</td>\n",
              "      <td>https://www.npr.org/2020/01/22/798392172/chine...</td>\n",
              "      <td>National Public Radio (NPR)</td>\n",
              "      <td>2020-01-22</td>\n",
              "      <td>['Emily Feng']</td>\n",
              "      <td>Chinese Health Officials: More Die From Newly ...</td>\n",
              "      <td>https://media.npr.org/include/images/facebook-...</td>\n",
              "      <td>Chinese Health Officials: More Die From Newly ...</td>\n",
              "      <td>100.0</td>\n",
              "      <td>Very high</td>\n",
              "      <td>Center</td>\n",
              "      <td>USA</td>\n",
              "      <td>1</td>\n",
              "    </tr>\n",
              "    <tr>\n",
              "      <th>2</th>\n",
              "      <td>2</td>\n",
              "      <td>https://www.theverge.com/2020/1/23/21078457/co...</td>\n",
              "      <td>The Verge</td>\n",
              "      <td>2020-01-23</td>\n",
              "      <td>['Nicole Wetsman']</td>\n",
              "      <td>Everything you need to know about the coronavirus</td>\n",
              "      <td>https://cdn.vox-cdn.com/thumbor/a9_Oz7cvSBKyal...</td>\n",
              "      <td>Public health experts around the globe are scr...</td>\n",
              "      <td>100.0</td>\n",
              "      <td>High</td>\n",
              "      <td>Left-center</td>\n",
              "      <td>USA</td>\n",
              "      <td>1</td>\n",
              "    </tr>\n",
              "    <tr>\n",
              "      <th>3</th>\n",
              "      <td>3</td>\n",
              "      <td>https://www.worldhealth.net/news/novel-coronav...</td>\n",
              "      <td>WorldHealth.Net</td>\n",
              "      <td>2020-01-24</td>\n",
              "      <td>[]</td>\n",
              "      <td>Novel Coronavirus Cases Confirmed To Be Spreading</td>\n",
              "      <td>https://www.worldhealth.net/media/original_ima...</td>\n",
              "      <td>The first two coronavirus cases in Europe have...</td>\n",
              "      <td>30.0</td>\n",
              "      <td>Low</td>\n",
              "      <td>NaN</td>\n",
              "      <td>USA</td>\n",
              "      <td>0</td>\n",
              "    </tr>\n",
              "    <tr>\n",
              "      <th>4</th>\n",
              "      <td>4</td>\n",
              "      <td>https://www.theverge.com/2020/1/24/21080845/co...</td>\n",
              "      <td>The Verge</td>\n",
              "      <td>2020-01-24</td>\n",
              "      <td>['Nicole Wetsman', 'Zoe Schiffer', 'Jay Peters...</td>\n",
              "      <td>Coronavirus disrupts the world: updates on the...</td>\n",
              "      <td>https://cdn.vox-cdn.com/thumbor/t2gt1SmEni4Mcr...</td>\n",
              "      <td>A new coronavirus appeared in Wuhan, China, at...</td>\n",
              "      <td>100.0</td>\n",
              "      <td>High</td>\n",
              "      <td>Left-center</td>\n",
              "      <td>USA</td>\n",
              "      <td>1</td>\n",
              "    </tr>\n",
              "  </tbody>\n",
              "</table>\n",
              "</div>"
            ],
            "text/plain": [
              "   news_id  ... reliability\n",
              "0        0  ...           1\n",
              "1        1  ...           1\n",
              "2        2  ...           1\n",
              "3        3  ...           0\n",
              "4        4  ...           1\n",
              "\n",
              "[5 rows x 13 columns]"
            ]
          },
          "metadata": {
            "tags": []
          },
          "execution_count": 8
        }
      ]
    },
    {
      "cell_type": "markdown",
      "metadata": {
        "id": "PjmCDhmc6UKc",
        "colab_type": "text"
      },
      "source": [
        "# Preprocessing"
      ]
    },
    {
      "cell_type": "code",
      "metadata": {
        "id": "KyU07kKy6TnS",
        "colab_type": "code",
        "colab": {}
      },
      "source": [
        "def remove_stopwords(text: str, stopwords: Set[str]) -> str:\n",
        "  return ' '.join(word for word in text.split(\" \") if word not in stopwords)"
      ],
      "execution_count": 13,
      "outputs": []
    },
    {
      "cell_type": "code",
      "metadata": {
        "id": "ArApQVwf6wdw",
        "colab_type": "code",
        "colab": {
          "base_uri": "https://localhost:8080/",
          "height": 34
        },
        "outputId": "5c7262bc-e71e-43ef-cc5e-48063494d947"
      },
      "source": [
        "\"\"\"\n",
        "Removing extra characters along with words mixed with digits & HTML tags as well\n",
        "Example: he120llo\n",
        "Note: Words which are special COVID-19 keywords will not be removed. This list\n",
        "of keywords are drawn from TweetsCOV19 dataset (https://data.gesis.org/tweetscov19/)\n",
        "\"\"\"\n",
        "pat = r'([A-Za-z]+[\\d@]+[\\w@]*|[\\d@]+[A-Za-z]+[\\w@]*)'\n",
        "def remove_nonsense_words(text: str):\n",
        "  words = text.split(\" \")\n",
        "  for i in range(len(words)):\n",
        "    if words[i] in keywords:\n",
        "      continue\n",
        "    words[i] = re.sub(pat, '', words[i])\n",
        "    words[i] = re.sub(r'<!--?.*?-->', '', words[i])\n",
        "    words[i] = re.sub(r'[\\W|\\d]+', ' ', words[i])\n",
        "  \n",
        "  return ' '.join(word for word in words if word != '')\n",
        "\n",
        "print(remove_nonsense_words(\"hello this is cov19 speaking hel11oo3\"))"
      ],
      "execution_count": 22,
      "outputs": [
        {
          "output_type": "stream",
          "text": [
            "hello this is cov19 speaking\n"
          ],
          "name": "stdout"
        }
      ]
    },
    {
      "cell_type": "code",
      "metadata": {
        "id": "0xxvfm_n-hze",
        "colab_type": "code",
        "colab": {
          "base_uri": "https://localhost:8080/",
          "height": 34
        },
        "outputId": "a47972ba-5609-452e-9942-baf6482dca35"
      },
      "source": [
        "\"\"\"\n",
        "Condense three or more repetitive letters into one.\n",
        "Example: \"diiieeee\" => \"die\"\n",
        "\"\"\"\n",
        "def condense(text, rep_size=3):\n",
        "  \"\"\"\n",
        "  text: string data to filter\n",
        "  rep_size: >= repetitive letters\n",
        "  \"\"\"\n",
        "  return re.sub('(.)\\\\1{'+ str(rep_size-1) +',}', r'\\1', text)\n",
        "\n",
        "print(condense(\"diiieeee\"))"
      ],
      "execution_count": 23,
      "outputs": [
        {
          "output_type": "stream",
          "text": [
            "die\n"
          ],
          "name": "stdout"
        }
      ]
    },
    {
      "cell_type": "code",
      "metadata": {
        "id": "XluajuuZCYap",
        "colab_type": "code",
        "colab": {}
      },
      "source": [
        "\"\"\"\n",
        "Segments data into two parts: training data & test data\n",
        "in shuffled manner.\n",
        "\"\"\"\n",
        "def segmentData(sentences, labels, training_portion):\n",
        "  train_size = int(len(sentences) * training_portion)\n",
        "  coupled_data = [(sentences[i], labels[i]) for i in range(len(sentences))]\n",
        "  random.seed(time.time())\n",
        "  random.shuffle(coupled_data)\n",
        "\n",
        "  train_sentences, train_labels = [], []\n",
        "  for i in range(train_size):\n",
        "   train_sentences.append(coupled_data[i][0])\n",
        "   train_labels.append(coupled_data[i][1])\n",
        "\n",
        "  test_sentences, test_labels = [], []\n",
        "  for i in range(train_size, len(sentences)):\n",
        "    test_sentences.append(coupled_data[i][0])\n",
        "    test_labels.append(coupled_data[i][1])\n",
        "  \n",
        "  return train_sentences, train_labels, test_sentences, test_labels"
      ],
      "execution_count": 38,
      "outputs": []
    },
    {
      "cell_type": "markdown",
      "metadata": {
        "id": "krtA2Jdy5TQb",
        "colab_type": "text"
      },
      "source": [
        "# Title & body text"
      ]
    },
    {
      "cell_type": "code",
      "metadata": {
        "id": "xSXyftG85FhY",
        "colab_type": "code",
        "colab": {
          "base_uri": "https://localhost:8080/",
          "height": 220
        },
        "outputId": "9fcb5c55-9791-40d1-f277-5fd147330392"
      },
      "source": [
        "sentences, labels = [], []\n",
        "for index, row in df.iterrows():\n",
        "  sentences.append(f\"{row['title'].lower()} {row['body_text'].lower()}\")\n",
        "  labels.append(row['reliability'])"
      ],
      "execution_count": 102,
      "outputs": [
        {
          "output_type": "error",
          "ename": "AttributeError",
          "evalue": "ignored",
          "traceback": [
            "\u001b[0;31m---------------------------------------------------------------------------\u001b[0m",
            "\u001b[0;31mAttributeError\u001b[0m                            Traceback (most recent call last)",
            "\u001b[0;32m<ipython-input-102-c7410dc542a8>\u001b[0m in \u001b[0;36m<module>\u001b[0;34m()\u001b[0m\n\u001b[1;32m      1\u001b[0m \u001b[0msentences\u001b[0m\u001b[0;34m,\u001b[0m \u001b[0mlabels\u001b[0m \u001b[0;34m=\u001b[0m \u001b[0;34m[\u001b[0m\u001b[0;34m]\u001b[0m\u001b[0;34m,\u001b[0m \u001b[0;34m[\u001b[0m\u001b[0;34m]\u001b[0m\u001b[0;34m\u001b[0m\u001b[0;34m\u001b[0m\u001b[0m\n\u001b[1;32m      2\u001b[0m \u001b[0;32mfor\u001b[0m \u001b[0mindex\u001b[0m\u001b[0;34m,\u001b[0m \u001b[0mrow\u001b[0m \u001b[0;32min\u001b[0m \u001b[0mdf\u001b[0m\u001b[0;34m.\u001b[0m\u001b[0miterrows\u001b[0m\u001b[0;34m(\u001b[0m\u001b[0;34m)\u001b[0m\u001b[0;34m:\u001b[0m\u001b[0;34m\u001b[0m\u001b[0;34m\u001b[0m\u001b[0m\n\u001b[0;32m----> 3\u001b[0;31m   \u001b[0msentences\u001b[0m\u001b[0;34m.\u001b[0m\u001b[0mappend\u001b[0m\u001b[0;34m(\u001b[0m\u001b[0;34mf\"{row['title'].lower()} {row['body_text'].lower()}\"\u001b[0m\u001b[0;34m)\u001b[0m\u001b[0;34m\u001b[0m\u001b[0;34m\u001b[0m\u001b[0m\n\u001b[0m\u001b[1;32m      4\u001b[0m   \u001b[0mlabels\u001b[0m\u001b[0;34m.\u001b[0m\u001b[0mappend\u001b[0m\u001b[0;34m(\u001b[0m\u001b[0mrow\u001b[0m\u001b[0;34m[\u001b[0m\u001b[0;34m'reliability'\u001b[0m\u001b[0;34m]\u001b[0m\u001b[0;34m)\u001b[0m\u001b[0;34m\u001b[0m\u001b[0;34m\u001b[0m\u001b[0m\n",
            "\u001b[0;31mAttributeError\u001b[0m: 'float' object has no attribute 'lower'"
          ]
        }
      ]
    },
    {
      "cell_type": "markdown",
      "metadata": {
        "id": "uHCl9Y5t-ZIU",
        "colab_type": "text"
      },
      "source": [
        "## Preprocessing"
      ]
    },
    {
      "cell_type": "code",
      "metadata": {
        "id": "LZxOzihI5_mp",
        "colab_type": "code",
        "colab": {}
      },
      "source": [
        "for i in range(len(sentences)):\n",
        "  sentences[i] = remove_nonsense_words(condense(sentences[i]))"
      ],
      "execution_count": 43,
      "outputs": []
    },
    {
      "cell_type": "code",
      "metadata": {
        "id": "g_rKtFDXFCuI",
        "colab_type": "code",
        "colab": {
          "base_uri": "https://localhost:8080/",
          "height": 54
        },
        "outputId": "bca5080c-f6f6-4cd7-be40-4040005461b3"
      },
      "source": [
        "print(sentences[0])"
      ],
      "execution_count": 45,
      "outputs": [
        {
          "output_type": "stream",
          "text": [
            "The Coronavirus  What Scientists Have Learned So Far  A novel respiratory virus that originated in Wuhan  China  last December has spread to six continents  Hundreds of thousands have been infected  at least   people have died and the spread of the coronavirus was called a pandemic by the World Health Organization in March Much remains unknown about the virus  including how many people may have very mild or asymptomatic infections  and whether they can transmit the virus  The precise dimensions of the outbreak are hard to know Here s what scientists have learned so far about the virus and the outbreak What is a coronavirus Coronaviruses are named for the spikes that protrude from their surfaces  resembling a crown or the sun s corona  They can infect both animals and people  and can cause illnesses of the respiratory tract At least four types of coronaviruses cause very mild infections every year  like the common cold  Most people get infected with one or more of these viruses at some point in their lives Another coronavirus that circulated in China in   caused a more dangerous condition known as Severe Acute Respiratory Syndrome  or SARS  The virus was contained after it had sickened   people and killed  Middle East Respiratory Syndrome  or MERS  first reported in Saudi Arabia in   is also caused by a coronavirus The new virus has been named SARS CoV  The disease it causes is called Covid  How dangerous is it It is hard to accurately assess the lethality of a new virus  It appears to be less often fatal than the coronaviruses that caused SARS or MERS  but significantly more so than the seasonal flu  The fatality rate was over   percent  in one study  But government scientists have estimated that the real figure could be below   percent  roughly the rate occurring in a severe flu season About   percent of the patients who were hospitalized in China had critical illnesses  Children seem less likely to be infected with the new coronavirus  while middle aged and older adults are disproportionately infected Men are more likely to die from an infection compared to women  possibly because they produce weaker immune responses and have higher rates of tobacco consumption  Type   diabetes and high blood pressure than women  which may increase the risk of complications following an infection This is a pattern we ve seen with many viral infections of the respiratory tract   men can have worse outcomes  said Sabra Klein  a scientist who studies sex differences in viral infections and vaccination responses at the Johns Hopkins Bloomberg School of Public Health How is the new coronavirus transmitted Experts believe that an infected animal may have first transmitted the virus to humans at a market that sold live fish  animals and birds in Wuhan  The market was later shut down and disinfected  making it nearly impossible to investigate which animal may have been the exact origin Bats are considered a possible source  because they have evolved to coexist with many viruses  and they were found to be the starting point for SARS  It is also possible that bats transmitted the virus to an intermediate animal  such as pangolins  which are consumed as a delicacy in parts of China  and may have then passed on the virus to humans The outbreak grew because of human to human transmission People infected with the virus produce tiny respiratory droplets when they breathe  talk  cough or sneeze  allowing the virus to travel through the air Most respiratory droplets fall to the ground within a few feet  People who are in close contact with those infected  particularly family members and health care workers  may catch the virus this way Scientists don t know how long the new coronavirus can live on surfaces  and preliminary research suggests that hot and humid environments may not slow down the pathogen s spread  Warm weather does tend to inhibit influenza and milder coronaviruses Infected people may be able to pass on the new coronavirus even if they have few obvious symptoms  a study in Germany has found  That s  bad news  said Dr  William Schaffner  an expert in infectious diseases at Vanderbilt University Medical Center in Nashville When people don t know they are infected   they re up and about  going to work or the gym or to religious services  and breathing on or near other people  he said  Still  a report by the World Health Organization suggests that asymptomatic cases are rare What symptoms should I look out for Symptoms of this infection include fever  cough and difficulty breathing or shortness of breath  The illness causes lung lesions and pneumonia  But milder cases may resemble the flu or a bad cold  making detection difficult Patients may exhibit other symptoms  too  such as gastrointestinal problems or diarrhea  Current estimates suggest that symptoms may appear in as few as two days or as long as   days after being exposed to the virus If you have a fever or a cough and recently visited China  South Korea  Italy or another place with a known coronavirus outbreak  or spent time with someone who did  see your health care provider  Call first  so the office can prepare for your visit and take steps to protect other patients and staff from potential exposure Is there a test for the virus  What is the treatment  There is a diagnostic test that can determine if you are infected  It was developed by the Centers for Disease Control and Prevention  based on genetic information about the virus provided by the Chinese authorities In early February  the C D C  sent diagnostic test kits to   state laboratories  but some of the kits were flawed and recalled  Now other laboratories are making their own tests  Other countries are using test kits manufactured locally or sent out by the W H O The C D C  announced that anyone who wanted to be tested could  if a doctor approves the request  Private companies  such as LabCorp and Quest Diagnostics  are also rushing to provide tests at various labs across the country  but the supply has yet to meet public demand  Many patients complain that they still cannot get tested Once a coronavirus infection is confirmed  the treatment is mainly supportive  making sure the patient is getting enough oxygen  managing his or her fever and using a ventilator to push air into the lungs if necessary  said Dr  Julie Vaishampayan  chairwoman of the public health committee at the Infectious Diseases Society of America Patients with mild cases are told to rest and drink plenty of fluids  while the immune system does its job and heals itself  she said  Most people with mild infections recover in about two weeks  More than half of those who have been infected globally have already recovered A number of drugs are currently being tested as potential treatments  including an antiviral medication called remdesivir  which appears to be effective in animals and was used to treat the first American patient in Washington State  The National Institutes of Health is testing the drug on infected patient in a clinical trial in Nebraska  The drug s maker  Gilead  has also begun trials at various sites in Asia How long will it take to develop a vaccine A coronavirus vaccine is still months away   and perhaps years  While new technology  advancements in genomics and improved global coordination have allowed researchers to act quickly  vaccine development remains an expensive and risky process After the SARS outbreak in   it took researchers about   months to get a vaccine ready for human trials   The vaccine was never needed  because the disease was eventually contained By the time of the Zika outbreak in   researchers had brought the vaccine development timeline down to six months Now  they hope that work from past outbreaks will help cut the timeline further  Scientists at the National Institutes of Health and several companies are working on vaccine candidates Dr  Anthony S  Fauci  director of the National Institute of Allergy and Infectious Diseases  said a preliminary clinical trial might get off the ground in as little as three months  But researchers would still need to conduct extensive testing to prove a vaccine was safe and effective How can I protect myself The best thing you can do to avoid getting infected is to follow the same general guidelines that experts recommend during flu season  because the coronavirus spreads in much the same way  Wash your hands frequently throughout the day  Avoid touching your face  and maintain a distance   at least six feet   from anyone who is coughing or sneezing The risk of infection with the new coronavirus in the United States  is way too low for the general public to start wearing a face mask  said Dr  Peter Rabinowitz  co director of the University of Washington MetaCenter for Pandemic Preparedness and Global Health Security But  he added   if you have symptoms of a respiratory illness  wearing a mask reduces the risk of infecting others Should I cancel my international travel plans Many countries have also enacted travel restrictions and bans  closing their doors to people from countries with sustained transmission of the virus  Governments around the world have been screening incoming passengers for signs of illness Is it too late to contain the virus  W H O  officials have credited lockdown measures China imposed in late January for averting the spread of more cases from Wuhan  China sealed off cities  shut down businesses and schools  and ordered residents to remain in their homes  Officials use cellphone data to track and intercept those who have been to Hubei Province In recent weeks  government workers have gone door to door to round up people who are infected  placing them in stadiums and other buildings that have been converted to makeshift hospitals  Now  official reports suggest that new cases in China are waning But there is growing fear that containment may no longer be possible  Clarence Tam  an assistant professor of infectious diseases at the School of Public Health at the National University of Singapore  said the surge of cases in multiple countries was  concerning because we know the transmissions are spreading at a fast rate We ve learned some things of this new virus for the past couple of weeks that make it seem unlikely that containment will be a strategy that will completely stop this virus  he added There is benefit to delaying its spread as long as possible  Containing the virus may buy health officials more time to stock hospitals with test kits and respirators  and for local governments  companies and schools to enact strategies   telecommuting and online classes  for instance   that may reduce the spread But the ability of nations to prepare for the arrival of coronavirus cases will depend largely on the strength of their health systems  capacity to conduct tests and effectiveness in communicating updates to the public We have been dealing with flu for decades  and even now it seems some countries don t even have a policy for influenza preparedness  said Leo Poon  head of the University of Hong Kong s public health laboratory sciences division   Not to mention something which is new to them  That s a problem \n"
          ],
          "name": "stdout"
        }
      ]
    },
    {
      "cell_type": "code",
      "metadata": {
        "id": "6a1NVnDZ6LDv",
        "colab_type": "code",
        "colab": {}
      },
      "source": [
        "training_portion = 0.8"
      ],
      "execution_count": 25,
      "outputs": []
    },
    {
      "cell_type": "code",
      "metadata": {
        "id": "DHeUYuKTAh8p",
        "colab_type": "code",
        "colab": {
          "base_uri": "https://localhost:8080/",
          "height": 87
        },
        "outputId": "9daf87f3-8823-4b10-dad9-b8e22b5b988e"
      },
      "source": [
        "train_sentences, train_labels, test_sentences, test_labels = segmentData(sentences, labels, training_portion)\n",
        "\n",
        "print(f\"Total articles: {len(sentences)}\")\n",
        "print(f\"Train size: {train_size}\")\n",
        "print(f\"Total positive labels percentage: {(sum(labels)/len(labels)) * 100}%\")\n",
        "print(f\"Total train positive labels percentage: {(sum(train_labels)/len(train_labels)) * 100}%\")"
      ],
      "execution_count": 46,
      "outputs": [
        {
          "output_type": "stream",
          "text": [
            "Total articles: 2029\n",
            "Train size: 1623\n",
            "Total positive labels percentage: 67.22523410547068%\n",
            "Total train positive labels percentage: 67.09796672828097%\n"
          ],
          "name": "stdout"
        }
      ]
    },
    {
      "cell_type": "markdown",
      "metadata": {
        "id": "1Orj4QbrFXax",
        "colab_type": "text"
      },
      "source": [
        "##Setting up Tokenizer & hyperparameters"
      ]
    },
    {
      "cell_type": "code",
      "metadata": {
        "id": "5rqCSFJAAmnp",
        "colab_type": "code",
        "colab": {}
      },
      "source": [
        "num_words = 10000\n",
        "oov_token = \"<oov>\"\n",
        "trunc_type = \"post\"\n",
        "padding_type = \"post\"\n",
        "max_length = 300\n",
        "embedding_dim = 300\n",
        "lstm_dim = 64\n",
        "memory_units = 64\n",
        "dense_units1 = 32\n",
        "dense_units2 = 1\n",
        "dropout_rate = 0.2"
      ],
      "execution_count": 66,
      "outputs": []
    },
    {
      "cell_type": "code",
      "metadata": {
        "id": "8YgolNgIFoSa",
        "colab_type": "code",
        "colab": {}
      },
      "source": [
        "tokenizer = Tokenizer(num_words=num_words, oov_token=oov_token)\n",
        "\n",
        "tokenizer.fit_on_texts(train_sentences)\n",
        "word_index = tokenizer.word_index\n",
        "\n",
        "train_sequences = tokenizer.texts_to_sequences(train_sentences)\n",
        "train_padded_sequences = pad_sequences(train_sequences, maxlen=max_length,\n",
        "                                       padding=padding_type, truncating=trunc_type)"
      ],
      "execution_count": 48,
      "outputs": []
    },
    {
      "cell_type": "code",
      "metadata": {
        "id": "tLwb-pMpGUyd",
        "colab_type": "code",
        "colab": {}
      },
      "source": [
        "with open(\"word_index.json\", 'w') as f:\n",
        "  json.dump(word_index, f)"
      ],
      "execution_count": 50,
      "outputs": []
    },
    {
      "cell_type": "code",
      "metadata": {
        "id": "nR9VGpwbGia2",
        "colab_type": "code",
        "colab": {
          "base_uri": "https://localhost:8080/",
          "height": 494
        },
        "outputId": "847f19b5-65c7-4022-b9be-de715c6c4cff"
      },
      "source": [
        "print(train_sequences[0])\n",
        "print(len(train_sequences[0]))\n",
        "print(train_padded_sequences[0])\n",
        "print(len(train_padded_sequences[0]))\n",
        "print(type(train_padded_sequences[0]))"
      ],
      "execution_count": 51,
      "outputs": [
        {
          "output_type": "stream",
          "text": [
            "[30, 74, 7, 420, 1046, 16, 83, 7462, 157, 101, 41, 11, 74, 7, 4, 420, 1046, 16, 293, 3754, 2, 2327, 105, 7, 6, 4561, 2, 83, 23, 345, 36, 59, 376, 576, 5, 2, 150, 105, 163, 2, 56, 433, 15, 2, 637, 157, 2, 83, 9, 904, 65, 237, 7, 62, 916, 11, 38, 5, 1091, 49, 54, 60, 36, 38, 39, 230, 174, 287, 2, 637, 7851, 4, 185, 381, 191, 25, 5, 1, 218, 905, 2, 218, 3, 870, 174, 101, 7, 2, 83, 49, 17, 43, 379, 30, 101, 163, 2, 56, 433, 2, 83, 9, 1091, 4562, 310, 2, 158, 4, 174, 101, 650, 3, 450, 228, 600, 462, 2, 125, 459, 26, 5, 2, 3755, 794, 87, 3, 299, 1016, 5, 2, 6553, 1046, 1744, 189, 6, 759, 5614, 3, 1871, 2, 294, 949, 4, 547, 791, 847, 838, 9, 1670, 362, 301, 31, 2, 4562, 310, 11, 6, 848, 105, 2486, 827, 5, 2, 159, 7852, 838, 9, 370, 23, 25, 265, 4, 2, 83, 9, 332, 1763, 354, 18, 189, 8, 310, 10, 169, 3, 2613, 3, 2, 662, 362, 949, 53, 1513, 66, 760, 421, 266, 3, 1106, 633, 801, 5433, 28, 5848, 2803, 2021, 147, 2, 444, 848, 105, 827, 4, 2, 4562, 310, 11, 838, 25, 135, 22, 35, 133, 1630, 4, 31, 2, 520, 860, 8, 257, 4, 2, 768, 2, 4562, 310, 11, 828, 11, 99, 4, 733, 115, 1408, 20, 5434, 228, 384, 105, 10, 2, 97, 75, 12, 133, 5, 20, 173, 3462, 1005, 205, 105, 163, 162, 88, 2, 125, 848, 169, 20, 173, 338, 3538, 8, 15, 35, 827, 4, 228, 384, 105, 838, 25, 2, 255, 154, 11, 8, 69, 444, 2118, 4562, 310, 11, 189, 12, 827, 10, 2, 125, 169, 5, 8, 9, 274, 1655, 6, 365, 7463, 4, 2, 810, 267, 310, 287, 2, 451, 100, 59, 13, 26, 57, 115, 26, 237, 36, 633, 838, 60, 285, 403, 46, 115, 1220, 7, 299, 7, 373, 1596, 1, 1, 849, 1, 1, 849, 5, 1, 2, 83, 11, 60, 3340, 332, 46, 815, 2928, 1220, 824, 1006, 6, 815, 2928, 906, 7, 1, 37, 861, 115, 16, 142, 16, 1220, 7, 1, 1, 5, 2486, 1, 51, 115, 11, 323, 5, 2, 1220, 37, 18, 263, 848, 169, 6, 126, 179, 6871, 4678, 2, 766, 4, 2, 420, 1, 4, 100, 52, 25, 16, 4, 361, 839, 49, 54, 38, 7, 2, 83, 9, 445, 15, 41, 4, 89, 45, 6, 917, 4, 93, 54, 7, 1777, 131, 2765, 5, 54, 12, 963, 213, 2164, 14, 60, 836, 3, 838, 9, 362, 301, 3, 91, 3, 949, 1763, 354, 326, 82, 1091, 441, 7, 213, 5849, 10, 41, 297, 10, 169, 5, 17, 19, 229, 4, 2579, 1395, 141, 5, 4156, 1395, 5, 963, 369, 4678, 60, 936, 1944, 10, 1, 4241, 1280, 29, 354, 18, 230, 10, 2, 30, 127, 29, 78, 1681, 10, 896, 97, 4, 51, 84, 4, 2, 297, 1092, 15, 1221, 44, 1, 33, 1180, 67, 297, 4, 41, 65, 20, 81, 1656, 3679, 5268, 15, 90, 6055, 2884, 4678, 25, 31, 20, 60, 145, 8, 84, 38, 15, 41, 14, 1122, 2213, 4678, 25, 259, 159, 22, 445, 326, 6, 4562, 310, 4, 240, 5, 1, 1, 4241, 1681, 10, 1221, 72, 25, 580, 62, 18, 19, 490, 198, 4, 775, 1717, 48, 29, 17, 41]\n",
            "575\n",
            "[  30   74    7  420 1046   16   83 7462  157  101   41   11   74    7\n",
            "    4  420 1046   16  293 3754    2 2327  105    7    6 4561    2   83\n",
            "   23  345   36   59  376  576    5    2  150  105  163    2   56  433\n",
            "   15    2  637  157    2   83    9  904   65  237    7   62  916   11\n",
            "   38    5 1091   49   54   60   36   38   39  230  174  287    2  637\n",
            " 7851    4  185  381  191   25    5    1  218  905    2  218    3  870\n",
            "  174  101    7    2   83   49   17   43  379   30  101  163    2   56\n",
            "  433    2   83    9 1091 4562  310    2  158    4  174  101  650    3\n",
            "  450  228  600  462    2  125  459   26    5    2 3755  794   87    3\n",
            "  299 1016    5    2 6553 1046 1744  189    6  759 5614    3 1871    2\n",
            "  294  949    4  547  791  847  838    9 1670  362  301   31    2 4562\n",
            "  310   11    6  848  105 2486  827    5    2  159 7852  838    9  370\n",
            "   23   25  265    4    2   83    9  332 1763  354   18  189    8  310\n",
            "   10  169    3 2613    3    2  662  362  949   53 1513   66  760  421\n",
            "  266    3 1106  633  801 5433   28 5848 2803 2021  147    2  444  848\n",
            "  105  827    4    2 4562  310   11  838   25  135   22   35  133 1630\n",
            "    4   31    2  520  860    8  257    4    2  768    2 4562  310   11\n",
            "  828   11   99    4  733  115 1408   20 5434  228  384  105   10    2\n",
            "   97   75   12  133    5   20  173 3462 1005  205  105  163  162   88\n",
            "    2  125  848  169   20  173  338 3538    8   15   35  827    4  228\n",
            "  384  105  838   25    2  255  154   11    8   69  444 2118 4562  310\n",
            "   11  189   12  827   10    2]\n",
            "300\n",
            "<class 'numpy.ndarray'>\n"
          ],
          "name": "stdout"
        }
      ]
    },
    {
      "cell_type": "code",
      "metadata": {
        "id": "WoJPSidJGrTR",
        "colab_type": "code",
        "colab": {}
      },
      "source": [
        "test_sequences = tokenizer.texts_to_sequences(test_sentences)\n",
        "test_padded_sequences = pad_sequences(test_sequences, maxlen=max_length,\n",
        "                                      padding=padding_type, truncating=trunc_type)"
      ],
      "execution_count": 52,
      "outputs": []
    },
    {
      "cell_type": "code",
      "metadata": {
        "id": "mAL1ZwrUHHg_",
        "colab_type": "code",
        "colab": {}
      },
      "source": [
        "train_labels = np.array(train_labels)\n",
        "test_labels = np.array(test_labels)"
      ],
      "execution_count": 53,
      "outputs": []
    },
    {
      "cell_type": "code",
      "metadata": {
        "id": "miTls7uhHOLA",
        "colab_type": "code",
        "colab": {
          "base_uri": "https://localhost:8080/",
          "height": 351
        },
        "outputId": "b519ccdf-82d5-4ffc-aea2-557d7fd68aae"
      },
      "source": [
        "model = tf.keras.Sequential([\n",
        "  tf.keras.layers.Embedding(input_dim=num_words, output_dim=lstm_dim, input_length=max_length),\n",
        "  tf.keras.layers.LSTM(memory_units),\n",
        "  # tf.keras.layers.Dropout(rate=dropout_rate),\n",
        "  tf.keras.layers.Dense(dense_units1, activation='relu'),\n",
        "  tf.keras.layers.Dropout(rate=dropout_rate),\n",
        "  tf.keras.layers.Dense(dense_units2, activation='sigmoid')\n",
        "])\n",
        "model.compile(loss='binary_crossentropy', optimizer='adam', metrics=['accuracy'])\n",
        "print(model.summary())"
      ],
      "execution_count": 67,
      "outputs": [
        {
          "output_type": "stream",
          "text": [
            "Model: \"sequential_6\"\n",
            "_________________________________________________________________\n",
            "Layer (type)                 Output Shape              Param #   \n",
            "=================================================================\n",
            "embedding_6 (Embedding)      (None, 300, 64)           640000    \n",
            "_________________________________________________________________\n",
            "lstm_6 (LSTM)                (None, 64)                33024     \n",
            "_________________________________________________________________\n",
            "dense_12 (Dense)             (None, 32)                2080      \n",
            "_________________________________________________________________\n",
            "dropout_9 (Dropout)          (None, 32)                0         \n",
            "_________________________________________________________________\n",
            "dense_13 (Dense)             (None, 1)                 33        \n",
            "=================================================================\n",
            "Total params: 675,137\n",
            "Trainable params: 675,137\n",
            "Non-trainable params: 0\n",
            "_________________________________________________________________\n",
            "None\n"
          ],
          "name": "stdout"
        }
      ]
    },
    {
      "cell_type": "code",
      "metadata": {
        "id": "KBlYrNNALWaa",
        "colab_type": "code",
        "colab": {
          "base_uri": "https://localhost:8080/",
          "height": 1000
        },
        "outputId": "937f6be3-c299-428d-fc79-ebafc194ae1c"
      },
      "source": [
        "# training\n",
        "num_epochs = 30\n",
        "history = model.fit(train_padded_sequences, train_labels, epochs=num_epochs,\n",
        "                    validation_data=(test_padded_sequences, test_labels),\n",
        "                    batch_size=64)"
      ],
      "execution_count": 68,
      "outputs": [
        {
          "output_type": "stream",
          "text": [
            "Train on 1623 samples, validate on 406 samples\n",
            "Epoch 1/30\n",
            "1623/1623 [==============================] - 16s 10ms/sample - loss: 0.6574 - acc: 0.6642 - val_loss: 0.6239 - val_acc: 0.6773\n",
            "Epoch 2/30\n",
            "1623/1623 [==============================] - 14s 9ms/sample - loss: 0.6138 - acc: 0.6710 - val_loss: 0.6012 - val_acc: 0.6773\n",
            "Epoch 3/30\n",
            "1623/1623 [==============================] - 14s 9ms/sample - loss: 0.5706 - acc: 0.7104 - val_loss: 0.6182 - val_acc: 0.6872\n",
            "Epoch 4/30\n",
            "1623/1623 [==============================] - 14s 9ms/sample - loss: 0.4913 - acc: 0.8534 - val_loss: 0.5751 - val_acc: 0.6897\n",
            "Epoch 5/30\n",
            "1623/1623 [==============================] - 14s 9ms/sample - loss: 0.2960 - acc: 0.8940 - val_loss: 0.6315 - val_acc: 0.7340\n",
            "Epoch 6/30\n",
            "1623/1623 [==============================] - 14s 9ms/sample - loss: 0.1734 - acc: 0.9187 - val_loss: 0.7537 - val_acc: 0.7488\n",
            "Epoch 7/30\n",
            "1623/1623 [==============================] - 14s 9ms/sample - loss: 0.1157 - acc: 0.9427 - val_loss: 0.7806 - val_acc: 0.7167\n",
            "Epoch 8/30\n",
            "1623/1623 [==============================] - 14s 9ms/sample - loss: 0.1014 - acc: 0.9384 - val_loss: 0.8142 - val_acc: 0.7266\n",
            "Epoch 9/30\n",
            "1623/1623 [==============================] - 14s 9ms/sample - loss: 0.0782 - acc: 0.9661 - val_loss: 0.8817 - val_acc: 0.7291\n",
            "Epoch 10/30\n",
            "1623/1623 [==============================] - 14s 9ms/sample - loss: 0.0666 - acc: 0.9815 - val_loss: 1.1673 - val_acc: 0.7512\n",
            "Epoch 11/30\n",
            "1623/1623 [==============================] - 14s 9ms/sample - loss: 0.2892 - acc: 0.9298 - val_loss: 0.7373 - val_acc: 0.7759\n",
            "Epoch 12/30\n",
            "1623/1623 [==============================] - 14s 9ms/sample - loss: 0.1329 - acc: 0.9618 - val_loss: 0.7454 - val_acc: 0.7414\n",
            "Epoch 13/30\n",
            "1623/1623 [==============================] - 14s 9ms/sample - loss: 0.0619 - acc: 0.9852 - val_loss: 0.9618 - val_acc: 0.7759\n",
            "Epoch 14/30\n",
            "1623/1623 [==============================] - 14s 9ms/sample - loss: 0.2282 - acc: 0.9316 - val_loss: 0.7988 - val_acc: 0.7143\n",
            "Epoch 15/30\n",
            "1623/1623 [==============================] - 14s 9ms/sample - loss: 0.0682 - acc: 0.9821 - val_loss: 0.8424 - val_acc: 0.7488\n",
            "Epoch 16/30\n",
            "1623/1623 [==============================] - 14s 9ms/sample - loss: 0.0527 - acc: 0.9877 - val_loss: 0.9166 - val_acc: 0.7611\n",
            "Epoch 17/30\n",
            "1623/1623 [==============================] - 14s 9ms/sample - loss: 0.2363 - acc: 0.8983 - val_loss: 1.0299 - val_acc: 0.6010\n",
            "Epoch 18/30\n",
            "1623/1623 [==============================] - 14s 9ms/sample - loss: 0.1228 - acc: 0.9464 - val_loss: 0.9561 - val_acc: 0.7069\n",
            "Epoch 19/30\n",
            "1623/1623 [==============================] - 14s 9ms/sample - loss: 0.0760 - acc: 0.9827 - val_loss: 0.9495 - val_acc: 0.7340\n",
            "Epoch 20/30\n",
            "1623/1623 [==============================] - 14s 9ms/sample - loss: 0.0518 - acc: 0.9883 - val_loss: 1.0041 - val_acc: 0.7389\n",
            "Epoch 21/30\n",
            "1623/1623 [==============================] - 14s 9ms/sample - loss: 0.0448 - acc: 0.9871 - val_loss: 1.0286 - val_acc: 0.7414\n",
            "Epoch 22/30\n",
            "1623/1623 [==============================] - 14s 9ms/sample - loss: 0.0542 - acc: 0.9821 - val_loss: 1.0835 - val_acc: 0.7537\n",
            "Epoch 23/30\n",
            "1623/1623 [==============================] - 14s 9ms/sample - loss: 0.0503 - acc: 0.9871 - val_loss: 1.0971 - val_acc: 0.7586\n",
            "Epoch 24/30\n",
            "1623/1623 [==============================] - 14s 9ms/sample - loss: 0.0441 - acc: 0.9877 - val_loss: 1.0564 - val_acc: 0.7537\n",
            "Epoch 25/30\n",
            "1623/1623 [==============================] - 14s 9ms/sample - loss: 0.0443 - acc: 0.9877 - val_loss: 1.0627 - val_acc: 0.7562\n",
            "Epoch 26/30\n",
            "1623/1623 [==============================] - 14s 9ms/sample - loss: 0.0406 - acc: 0.9877 - val_loss: 1.0780 - val_acc: 0.7512\n",
            "Epoch 27/30\n",
            "1623/1623 [==============================] - 14s 9ms/sample - loss: 0.0550 - acc: 0.9889 - val_loss: 1.1856 - val_acc: 0.7734\n",
            "Epoch 28/30\n",
            "1623/1623 [==============================] - 14s 9ms/sample - loss: 0.0489 - acc: 0.9889 - val_loss: 1.0464 - val_acc: 0.7759\n",
            "Epoch 29/30\n",
            "1623/1623 [==============================] - 14s 9ms/sample - loss: 0.0444 - acc: 0.9889 - val_loss: 1.0189 - val_acc: 0.7734\n",
            "Epoch 30/30\n",
            "1623/1623 [==============================] - 14s 9ms/sample - loss: 0.0408 - acc: 0.9889 - val_loss: 1.0157 - val_acc: 0.7734\n"
          ],
          "name": "stdout"
        }
      ]
    },
    {
      "cell_type": "code",
      "metadata": {
        "id": "EXrzF4g3MhO3",
        "colab_type": "code",
        "colab": {
          "base_uri": "https://localhost:8080/",
          "height": 541
        },
        "outputId": "4c1682d3-5789-46c5-979a-fd9efb35d4c8"
      },
      "source": [
        "plot_graphs(history, 'acc')\n",
        "plot_graphs(history, 'loss')"
      ],
      "execution_count": 72,
      "outputs": [
        {
          "output_type": "display_data",
          "data": {
            "image/png": "[encoded data removed]",
            "text/plain": [
              "<Figure size 432x288 with 1 Axes>"
            ]
          },
          "metadata": {
            "tags": [],
            "needs_background": "light"
          }
        },
        {
          "output_type": "display_data",
          "data": {
            "image/png": "[encoded data removed]",
            "text/plain": [
              "<Figure size 432x288 with 1 Axes>"
            ]
          },
          "metadata": {
            "tags": [],
            "needs_background": "light"
          }
        }
      ]
    },
    {
      "cell_type": "code",
      "metadata": {
        "id": "pOk-I1ESO3B5",
        "colab_type": "code",
        "colab": {
          "base_uri": "https://localhost:8080/",
          "height": 351
        },
        "outputId": "42c7c0e3-ca84-4990-b332-c940ef58ddca"
      },
      "source": [
        "model2 = tf.keras.Sequential([\n",
        "  tf.keras.layers.Embedding(input_dim=num_words, output_dim=16, input_length=max_length),\n",
        "  tf.keras.layers.LSTM(16),\n",
        "  tf.keras.layers.Dense(8, activation='relu'),\n",
        "  tf.keras.layers.Dropout(rate=dropout_rate),\n",
        "  tf.keras.layers.Dense(dense_units2, activation='sigmoid')\n",
        "])\n",
        "model2.compile(loss='binary_crossentropy', optimizer='adam', metrics=['accuracy'])\n",
        "print(model2.summary())"
      ],
      "execution_count": 87,
      "outputs": [
        {
          "output_type": "stream",
          "text": [
            "Model: \"sequential_12\"\n",
            "_________________________________________________________________\n",
            "Layer (type)                 Output Shape              Param #   \n",
            "=================================================================\n",
            "embedding_12 (Embedding)     (None, 300, 16)           160000    \n",
            "_________________________________________________________________\n",
            "lstm_12 (LSTM)               (None, 16)                2112      \n",
            "_________________________________________________________________\n",
            "dense_24 (Dense)             (None, 8)                 136       \n",
            "_________________________________________________________________\n",
            "dropout_19 (Dropout)         (None, 8)                 0         \n",
            "_________________________________________________________________\n",
            "dense_25 (Dense)             (None, 1)                 9         \n",
            "=================================================================\n",
            "Total params: 162,257\n",
            "Trainable params: 162,257\n",
            "Non-trainable params: 0\n",
            "_________________________________________________________________\n",
            "None\n"
          ],
          "name": "stdout"
        }
      ]
    },
    {
      "cell_type": "code",
      "metadata": {
        "id": "IzLKmb2iO4Ph",
        "colab_type": "code",
        "colab": {
          "base_uri": "https://localhost:8080/",
          "height": 438
        },
        "outputId": "dd89e792-c0ec-4f52-b9db-f48b068bf976"
      },
      "source": [
        "history2 = model.fit(train_padded_sequences, train_labels, epochs=num_epochs,\n",
        "                    validation_data=(test_padded_sequences, test_labels),\n",
        "                    batch_size=64)"
      ],
      "execution_count": 88,
      "outputs": [
        {
          "output_type": "stream",
          "text": [
            "Train on 1623 samples, validate on 406 samples\n",
            "Epoch 1/30\n",
            "1623/1623 [==============================] - 14s 9ms/sample - loss: 0.0096 - acc: 0.9975 - val_loss: 1.6440 - val_acc: 0.7833\n",
            "Epoch 2/30\n",
            " 576/1623 [=========>....................] - ETA: 8s - loss: 0.0044 - acc: 0.9983"
          ],
          "name": "stdout"
        },
        {
          "output_type": "error",
          "ename": "KeyboardInterrupt",
          "evalue": "ignored",
          "traceback": [
            "\u001b[0;31m---------------------------------------------------------------------------\u001b[0m",
            "\u001b[0;31mKeyboardInterrupt\u001b[0m                         Traceback (most recent call last)",
            "\u001b[0;32m<ipython-input-88-c8e02020c7f2>\u001b[0m in \u001b[0;36m<module>\u001b[0;34m()\u001b[0m\n\u001b[1;32m      1\u001b[0m history2 = model.fit(train_padded_sequences, train_labels, epochs=num_epochs,\n\u001b[1;32m      2\u001b[0m                     \u001b[0mvalidation_data\u001b[0m\u001b[0;34m=\u001b[0m\u001b[0;34m(\u001b[0m\u001b[0mtest_padded_sequences\u001b[0m\u001b[0;34m,\u001b[0m \u001b[0mtest_labels\u001b[0m\u001b[0;34m)\u001b[0m\u001b[0;34m,\u001b[0m\u001b[0;34m\u001b[0m\u001b[0;34m\u001b[0m\u001b[0m\n\u001b[0;32m----> 3\u001b[0;31m                     batch_size=64)\n\u001b[0m",
            "\u001b[0;32m/usr/local/lib/python3.6/dist-packages/tensorflow_core/python/keras/engine/training.py\u001b[0m in \u001b[0;36mfit\u001b[0;34m(self, x, y, batch_size, epochs, verbose, callbacks, validation_split, validation_data, shuffle, class_weight, sample_weight, initial_epoch, steps_per_epoch, validation_steps, validation_freq, max_queue_size, workers, use_multiprocessing, **kwargs)\u001b[0m\n\u001b[1;32m    725\u001b[0m         \u001b[0mmax_queue_size\u001b[0m\u001b[0;34m=\u001b[0m\u001b[0mmax_queue_size\u001b[0m\u001b[0;34m,\u001b[0m\u001b[0;34m\u001b[0m\u001b[0;34m\u001b[0m\u001b[0m\n\u001b[1;32m    726\u001b[0m         \u001b[0mworkers\u001b[0m\u001b[0;34m=\u001b[0m\u001b[0mworkers\u001b[0m\u001b[0;34m,\u001b[0m\u001b[0;34m\u001b[0m\u001b[0;34m\u001b[0m\u001b[0m\n\u001b[0;32m--> 727\u001b[0;31m         use_multiprocessing=use_multiprocessing)\n\u001b[0m\u001b[1;32m    728\u001b[0m \u001b[0;34m\u001b[0m\u001b[0m\n\u001b[1;32m    729\u001b[0m   def evaluate(self,\n",
            "\u001b[0;32m/usr/local/lib/python3.6/dist-packages/tensorflow_core/python/keras/engine/training_arrays.py\u001b[0m in \u001b[0;36mfit\u001b[0;34m(self, model, x, y, batch_size, epochs, verbose, callbacks, validation_split, validation_data, shuffle, class_weight, sample_weight, initial_epoch, steps_per_epoch, validation_steps, validation_freq, **kwargs)\u001b[0m\n\u001b[1;32m    673\u001b[0m         \u001b[0mvalidation_steps\u001b[0m\u001b[0;34m=\u001b[0m\u001b[0mvalidation_steps\u001b[0m\u001b[0;34m,\u001b[0m\u001b[0;34m\u001b[0m\u001b[0;34m\u001b[0m\u001b[0m\n\u001b[1;32m    674\u001b[0m         \u001b[0mvalidation_freq\u001b[0m\u001b[0;34m=\u001b[0m\u001b[0mvalidation_freq\u001b[0m\u001b[0;34m,\u001b[0m\u001b[0;34m\u001b[0m\u001b[0;34m\u001b[0m\u001b[0m\n\u001b[0;32m--> 675\u001b[0;31m         steps_name='steps_per_epoch')\n\u001b[0m\u001b[1;32m    676\u001b[0m \u001b[0;34m\u001b[0m\u001b[0m\n\u001b[1;32m    677\u001b[0m   def evaluate(self,\n",
            "\u001b[0;32m/usr/local/lib/python3.6/dist-packages/tensorflow_core/python/keras/engine/training_arrays.py\u001b[0m in \u001b[0;36mmodel_iteration\u001b[0;34m(model, inputs, targets, sample_weights, batch_size, epochs, verbose, callbacks, val_inputs, val_targets, val_sample_weights, shuffle, initial_epoch, steps_per_epoch, validation_steps, validation_freq, mode, validation_in_fit, prepared_feed_values_from_dataset, steps_name, **kwargs)\u001b[0m\n\u001b[1;32m    392\u001b[0m \u001b[0;34m\u001b[0m\u001b[0m\n\u001b[1;32m    393\u001b[0m         \u001b[0;31m# Get outputs.\u001b[0m\u001b[0;34m\u001b[0m\u001b[0;34m\u001b[0m\u001b[0;34m\u001b[0m\u001b[0m\n\u001b[0;32m--> 394\u001b[0;31m         \u001b[0mbatch_outs\u001b[0m \u001b[0;34m=\u001b[0m \u001b[0mf\u001b[0m\u001b[0;34m(\u001b[0m\u001b[0mins_batch\u001b[0m\u001b[0;34m)\u001b[0m\u001b[0;34m\u001b[0m\u001b[0;34m\u001b[0m\u001b[0m\n\u001b[0m\u001b[1;32m    395\u001b[0m         \u001b[0;32mif\u001b[0m \u001b[0;32mnot\u001b[0m \u001b[0misinstance\u001b[0m\u001b[0;34m(\u001b[0m\u001b[0mbatch_outs\u001b[0m\u001b[0;34m,\u001b[0m \u001b[0mlist\u001b[0m\u001b[0;34m)\u001b[0m\u001b[0;34m:\u001b[0m\u001b[0;34m\u001b[0m\u001b[0;34m\u001b[0m\u001b[0m\n\u001b[1;32m    396\u001b[0m           \u001b[0mbatch_outs\u001b[0m \u001b[0;34m=\u001b[0m \u001b[0;34m[\u001b[0m\u001b[0mbatch_outs\u001b[0m\u001b[0;34m]\u001b[0m\u001b[0;34m\u001b[0m\u001b[0;34m\u001b[0m\u001b[0m\n",
            "\u001b[0;32m/usr/local/lib/python3.6/dist-packages/tensorflow_core/python/keras/backend.py\u001b[0m in \u001b[0;36m__call__\u001b[0;34m(self, inputs)\u001b[0m\n\u001b[1;32m   3474\u001b[0m \u001b[0;34m\u001b[0m\u001b[0m\n\u001b[1;32m   3475\u001b[0m     fetched = self._callable_fn(*array_vals,\n\u001b[0;32m-> 3476\u001b[0;31m                                 run_metadata=self.run_metadata)\n\u001b[0m\u001b[1;32m   3477\u001b[0m     \u001b[0mself\u001b[0m\u001b[0;34m.\u001b[0m\u001b[0m_call_fetch_callbacks\u001b[0m\u001b[0;34m(\u001b[0m\u001b[0mfetched\u001b[0m\u001b[0;34m[\u001b[0m\u001b[0;34m-\u001b[0m\u001b[0mlen\u001b[0m\u001b[0;34m(\u001b[0m\u001b[0mself\u001b[0m\u001b[0;34m.\u001b[0m\u001b[0m_fetches\u001b[0m\u001b[0;34m)\u001b[0m\u001b[0;34m:\u001b[0m\u001b[0;34m]\u001b[0m\u001b[0;34m)\u001b[0m\u001b[0;34m\u001b[0m\u001b[0;34m\u001b[0m\u001b[0m\n\u001b[1;32m   3478\u001b[0m     output_structure = nest.pack_sequence_as(\n",
            "\u001b[0;32m/usr/local/lib/python3.6/dist-packages/tensorflow_core/python/client/session.py\u001b[0m in \u001b[0;36m__call__\u001b[0;34m(self, *args, **kwargs)\u001b[0m\n\u001b[1;32m   1470\u001b[0m         ret = tf_session.TF_SessionRunCallable(self._session._session,\n\u001b[1;32m   1471\u001b[0m                                                \u001b[0mself\u001b[0m\u001b[0;34m.\u001b[0m\u001b[0m_handle\u001b[0m\u001b[0;34m,\u001b[0m \u001b[0margs\u001b[0m\u001b[0;34m,\u001b[0m\u001b[0;34m\u001b[0m\u001b[0;34m\u001b[0m\u001b[0m\n\u001b[0;32m-> 1472\u001b[0;31m                                                run_metadata_ptr)\n\u001b[0m\u001b[1;32m   1473\u001b[0m         \u001b[0;32mif\u001b[0m \u001b[0mrun_metadata\u001b[0m\u001b[0;34m:\u001b[0m\u001b[0;34m\u001b[0m\u001b[0;34m\u001b[0m\u001b[0m\n\u001b[1;32m   1474\u001b[0m           \u001b[0mproto_data\u001b[0m \u001b[0;34m=\u001b[0m \u001b[0mtf_session\u001b[0m\u001b[0;34m.\u001b[0m\u001b[0mTF_GetBuffer\u001b[0m\u001b[0;34m(\u001b[0m\u001b[0mrun_metadata_ptr\u001b[0m\u001b[0;34m)\u001b[0m\u001b[0;34m\u001b[0m\u001b[0;34m\u001b[0m\u001b[0m\n",
            "\u001b[0;31mKeyboardInterrupt\u001b[0m: "
          ]
        }
      ]
    },
    {
      "cell_type": "code",
      "metadata": {
        "id": "6p0yjfC1Pvm3",
        "colab_type": "code",
        "colab": {
          "base_uri": "https://localhost:8080/",
          "height": 541
        },
        "outputId": "cd4419f1-cd76-4bcd-d31b-20cbefba0164"
      },
      "source": [
        "plot_graphs(history, 'acc')\n",
        "plot_graphs(history, 'loss')"
      ],
      "execution_count": 75,
      "outputs": [
        {
          "output_type": "display_data",
          "data": {
            "image/png": "[encoded data removed]",
            "text/plain": [
              "<Figure size 432x288 with 1 Axes>"
            ]
          },
          "metadata": {
            "tags": [],
            "needs_background": "light"
          }
        },
        {
          "output_type": "display_data",
          "data": {
            "image/png": "[encoded data removed]",
            "text/plain": [
              "<Figure size 432x288 with 1 Axes>"
            ]
          },
          "metadata": {
            "tags": [],
            "needs_background": "light"
          }
        }
      ]
    },
    {
      "cell_type": "code",
      "metadata": {
        "id": "R0bMrux5Pygb",
        "colab_type": "code",
        "colab": {}
      },
      "source": [
        "import pickle"
      ],
      "execution_count": 89,
      "outputs": []
    },
    {
      "cell_type": "code",
      "metadata": {
        "id": "KncPMzP8UxuI",
        "colab_type": "code",
        "colab": {}
      },
      "source": [
        "with open('lstm_baseline.model.json', 'w') as f:\n",
        "  f.write(model.to_json())\n",
        "\n",
        "model.save_weights('model.lstm.h5')\n",
        "\n",
        "with open('tokenizer.pickle', 'wb') as handle:\n",
        "  pickle.dump(tokenizer, handle, protocol=pickle.HIGHEST_PROTOCOL)"
      ],
      "execution_count": 91,
      "outputs": []
    },
    {
      "cell_type": "markdown",
      "metadata": {
        "id": "rNTND8zYVgQ5",
        "colab_type": "text"
      },
      "source": [
        "# Using model"
      ]
    },
    {
      "cell_type": "code",
      "metadata": {
        "id": "-1uqF_0cVFf-",
        "colab_type": "code",
        "colab": {}
      },
      "source": [
        "def predict(texts, model, tokenizer) -> bool:\n",
        "  \"\"\"\n",
        "  Predicts reliability based on baseline LSTM model.\n",
        "  \"\"\"\n",
        "\n",
        "  texts = [text.lower() for text in texts]\n",
        "  processed_texts = [remove_nonsense_words(condense(text)) for text in texts]\n",
        "\n",
        "  texts_sequences = tokenizer.texts_to_sequences(texts)\n",
        "  texts_padded_sequences = pad_sequences(texts_sequences, maxlen=max_length,\n",
        "                                        padding=padding_type, truncating=trunc_type)\n",
        "\n",
        "  prediction = model.predict(texts_padded_sequences)\n",
        "  return prediction"
      ],
      "execution_count": 105,
      "outputs": []
    },
    {
      "cell_type": "code",
      "metadata": {
        "id": "0Ra_yOUZX_KW",
        "colab_type": "code",
        "colab": {
          "base_uri": "https://localhost:8080/",
          "height": 105
        },
        "outputId": "f1e153bc-d659-4b10-b600-973c793c1f18"
      },
      "source": [
        "predict([\"Coronavirus is taking a serious toll on people's mental health\",\n",
        "         \"United States of America is facing very high cases of coronavirus as community spreads broadens.\",\n",
        "         \"There is still no vaccine available of Coronavirus as of now.\",\n",
        "         \"A fully functional and safe vaccine of coronavirus has been developed and it will soon be available to masses.\",\n",
        "         \"France announced a coronavirus vaccine this weekend.\"], model, tokenizer)"
      ],
      "execution_count": 107,
      "outputs": [
        {
          "output_type": "execute_result",
          "data": {
            "text/plain": [
              "array([[0.21260685],\n",
              "       [0.95933735],\n",
              "       [0.95933735],\n",
              "       [0.00824797],\n",
              "       [0.2126069 ]], dtype=float32)"
            ]
          },
          "metadata": {
            "tags": []
          },
          "execution_count": 107
        }
      ]
    },
    {
      "cell_type": "code",
      "metadata": {
        "id": "0COP0DWhYM7F",
        "colab_type": "code",
        "colab": {}
      },
      "source": [
        ""
      ],
      "execution_count": null,
      "outputs": []
    }
  ]
}