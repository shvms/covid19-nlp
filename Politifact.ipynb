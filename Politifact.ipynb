{
 "cells": [
  {
   "cell_type": "code",
   "execution_count": 1,
   "metadata": {},
   "outputs": [],
   "source": [
    "import requests\n",
    "from bs4 import BeautifulSoup\n",
    "import json\n",
    "import re\n",
    "import datetime"
   ]
  },
  {
   "cell_type": "code",
   "execution_count": 2,
   "metadata": {},
   "outputs": [],
   "source": [
    "BASE_URL = 'https://www.politifact.com/factchecks/list/?page=%d&ruling=%s'\n",
    "pat = re.compile('stated on ([\\w]+) ([\\d]+), ([\\d]+)')\n",
    "months = {'january': 1, 'february': 2, 'march': 3, 'april': 4, 'may': 5, 'june': 6, 'july': 7, 'august': 8, 'september': 9, 'october': 10, 'november': 11, 'december': 12}"
   ]
  },
  {
   "cell_type": "code",
   "execution_count": 5,
   "metadata": {},
   "outputs": [],
   "source": [
    "def get_data(ruling, start_page=1, till_page=2, verbose=True):\n",
    "    data_list = list()\n",
    "    page_count = 1\n",
    "    flag = True\n",
    "    while page_count <= till_page:\n",
    "        url = BASE_URL % (page_count, 'true')\n",
    "        page = requests.get(url)\n",
    "        page.raise_for_status()\n",
    "        \n",
    "        if verbose:\n",
    "            print(f\"{'-'*40} Extracting page #{page_count} {'-'*40}\")\n",
    "        soup = BeautifulSoup(page.text, 'html.parser')\n",
    "        contents = soup.find('ul', class_='o-listicle__list').findAll('li')\n",
    "        \n",
    "        for content in contents:\n",
    "            data = dict()\n",
    "            data['author'] = content.find(\"a\", class_=\"m-statement__name\").text.strip()\n",
    "            data['desc'] = content.find(\"div\", class_=\"m-statement__desc\").text.strip()\n",
    "            data['body'] = content.find(\"div\", class_=\"m-statement__quote\").find(\"a\").text.strip()\n",
    "            data['url'] = content.find(\"div\", class_=\"m-statement__quote\").find(\"a\").get('href')\n",
    "            match = re.match(pat, data['desc'])\n",
    "            data['date'] = datetime.date(int(match.group(3)), months[match.group(1).lower()], int(match.group(2)))\n",
    "            \n",
    "            if verbose:\n",
    "                print(f\".... Content of {data['date']}\")\n",
    "\n",
    "            data_list.append(data)\n",
    "        \n",
    "        page_count += 1\n",
    "        if verbose:\n",
    "            print()\n",
    "    return data_list"
   ]
  },
  {
   "cell_type": "code",
   "execution_count": 8,
   "metadata": {},
   "outputs": [],
   "source": [
    "true_data = get_data('true', till_page=15, verbose=False)"
   ]
  },
  {
   "cell_type": "code",
   "execution_count": 9,
   "metadata": {},
   "outputs": [],
   "source": [
    "mostly_true_data = get_data('mostly-true', till_page=15, verbose=False)"
   ]
  },
  {
   "cell_type": "code",
   "execution_count": 15,
   "metadata": {},
   "outputs": [],
   "source": [
    "false_data = get_data('false', till_page=15, verbose=False)"
   ]
  },
  {
   "cell_type": "code",
   "execution_count": 14,
   "metadata": {},
   "outputs": [],
   "source": [
    "pants_on_fire_data = get_data('pants-fire', till_page=15, verbose=False)"
   ]
  },
  {
   "cell_type": "code",
   "execution_count": 16,
   "metadata": {},
   "outputs": [
    {
     "data": {
      "text/plain": [
       "1800"
      ]
     },
     "execution_count": 16,
     "metadata": {},
     "output_type": "execute_result"
    }
   ],
   "source": [
    "len(true_data) + len(mostly_true_data) + len(false_data) + len(pants_on_fire_data)"
   ]
  },
  {
   "cell_type": "code",
   "execution_count": 32,
   "metadata": {},
   "outputs": [],
   "source": [
    "class DateEncoder(json.JSONEncoder):\n",
    "    def default(self, obj):\n",
    "        if isinstance(obj, datetime.date):\n",
    "            return str(obj)\n",
    "\n",
    "def save(obj, file_name):\n",
    "    if not file_name.endswith('.json'):\n",
    "        file_name += '.json'\n",
    "        \n",
    "    with open(file_name, 'w', encoding='utf-8') as file:\n",
    "        json.dump(obj, file, cls=DateEncoder)\n"
   ]
  },
  {
   "cell_type": "code",
   "execution_count": 33,
   "metadata": {},
   "outputs": [],
   "source": [
    "save(true_data, \"true.json\")"
   ]
  },
  {
   "cell_type": "code",
   "execution_count": 34,
   "metadata": {},
   "outputs": [],
   "source": [
    "save(mostly_true_data, \"mostly_true.json\")"
   ]
  },
  {
   "cell_type": "code",
   "execution_count": 35,
   "metadata": {},
   "outputs": [],
   "source": [
    "save(false_data, \"false.json\")"
   ]
  },
  {
   "cell_type": "code",
   "execution_count": 36,
   "metadata": {},
   "outputs": [],
   "source": [
    "save(pants_on_fire_data, \"pants_on_fire.json\")"
   ]
  },
  {
   "cell_type": "code",
   "execution_count": null,
   "metadata": {},
   "outputs": [],
   "source": []
  }
 ],
 "metadata": {
  "kernelspec": {
   "display_name": "venv",
   "language": "python",
   "name": "venv"
  },
  "language_info": {
   "codemirror_mode": {
    "name": "ipython",
    "version": 3
   },
   "file_extension": ".py",
   "mimetype": "text/x-python",
   "name": "python",
   "nbconvert_exporter": "python",
   "pygments_lexer": "ipython3",
   "version": "3.7.4"
  }
 },
 "nbformat": 4,
 "nbformat_minor": 2
}
